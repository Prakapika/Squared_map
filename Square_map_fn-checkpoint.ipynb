{
 "cells": [
  {
   "cell_type": "code",
   "execution_count": 3,
   "id": "404c6726",
   "metadata": {},
   "outputs": [
    {
     "name": "stdout",
     "output_type": "stream",
     "text": [
      "The given sample list are:  [4, 5, 2, 9]\n",
      "The squared map list are:\n",
      "[16, 25, 4, 81]\n"
     ]
    }
   ],
   "source": [
    "sample_list = [4, 5, 2, 9]\n",
    "print(\"The given sample list are: \", sample_list)\n",
    "Output = list(map(lambda a : a**2, sample_list))\n",
    "print(\"The squared map list are:\")\n",
    "print(Output)"
   ]
  },
  {
   "cell_type": "code",
   "execution_count": null,
   "id": "0d643ab3",
   "metadata": {},
   "outputs": [],
   "source": []
  }
 ],
 "metadata": {
  "kernelspec": {
   "display_name": "Python 3 (ipykernel)",
   "language": "python",
   "name": "python3"
  },
  "language_info": {
   "codemirror_mode": {
    "name": "ipython",
    "version": 3
   },
   "file_extension": ".py",
   "mimetype": "text/x-python",
   "name": "python",
   "nbconvert_exporter": "python",
   "pygments_lexer": "ipython3",
   "version": "3.10.6"
  }
 },
 "nbformat": 4,
 "nbformat_minor": 5
}
